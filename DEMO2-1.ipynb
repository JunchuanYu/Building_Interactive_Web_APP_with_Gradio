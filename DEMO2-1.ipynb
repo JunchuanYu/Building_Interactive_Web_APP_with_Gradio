{
 "cells": [
  {
   "cell_type": "markdown",
   "metadata": {},
   "source": [
    "### DEMO 2-1: Interactive Multi-Component Gradio Interface"
   ]
  },
  {
   "cell_type": "code",
   "execution_count": null,
   "metadata": {},
   "outputs": [],
   "source": [
    "import gradio as gr\n",
    "\n",
    "# Define the process function\n",
    "def process_inputs(text_input, number_input, number_slider, dropdown_selection, radio_options, image_input):\n",
    "    \n",
    "    processed_text = f\"You entered: {text_input}\" \n",
    "    processed_number = f\"You entered: {number_input}\" \n",
    "    processed_slider = f\"Number selected from slider: {number_slider}\" \n",
    "    processed_dropdown = f\"You selected from dropdown: {dropdown_selection}\" \n",
    "    processed_radio = f\"You selected from radio buttons: {radio_options}\" \n",
    "    \n",
    "    if image_input is not None:\n",
    "        imageshape = f\"The shape of the selected image is: {image_input.shape}\"\n",
    "        return processed_text, processed_number, processed_slider, processed_dropdown, processed_radio, imageshape\n",
    "    else:\n",
    "        return processed_text, processed_number, processed_slider, processed_dropdown, processed_radio, None\n",
    "\n",
    "# Create a complex interface \n",
    "demo = gr.Interface(\n",
    "    fn=process_inputs,  # The process function\n",
    "    inputs=[\n",
    "        gr.Textbox(label=\"Text Input\"),  # Textbox for text input\n",
    "        gr.Number(minimum=5, maximum=100, step=10, label=\"Number\"),  # Number input with a range\n",
    "        gr.Slider(minimum=0, maximum=100, step=1, label=\"Number Slider\"),  # Slider for number selection\n",
    "        gr.Dropdown(choices=[\"Option 1\", \"Option 2\", \"Option 3\"], label=\"Dropdown Selection\"),  # Dropdown for selection\n",
    "        gr.Radio(choices=[\"Radio 1\", \"Radio 2\", \"Radio 3\"], label=\"Radio Options\"),  # Radio buttons for selection\n",
    "        gr.Image(label=\"Upload Image\", type=\"numpy\"),  # Image upload component\n",
    "    ],\n",
    "    outputs=[\n",
    "        gr.Text(label=\"Processed Text\"), \n",
    "        gr.Text(label=\"Processed Number\"), \n",
    "        gr.Text(label=\"Processed Slider\"), \n",
    "        gr.Text(label=\"Processed Dropdown\"),  \n",
    "        gr.Text(label=\"Processed Radio\"),  \n",
    "        gr.Text(label=\"Processed Image\")  \n",
    "    ],\n",
    "    title=\"Complex Gradio Interface with Multiple Components\",  # Title of the app\n",
    "    description=\"This interface demonstrates the use of various input components such as textbox, slider, dropdown, radio, and image upload.\"  # Description of the interface\n",
    ")\n",
    "\n",
    "demo.launch(debug=True)"
   ]
  },
  {
   "cell_type": "markdown",
   "metadata": {},
   "source": [
    "<img src=\"https://dunazo.oss-cn-beijing.aliyuncs.com/blog/demo2-1.gif\" alt=\"Demo Image\" class=\"center-image\"/>"
   ]
  }
 ],
 "metadata": {
  "kernelspec": {
   "display_name": "gee",
   "language": "python",
   "name": "python3"
  },
  "language_info": {
   "codemirror_mode": {
    "name": "ipython",
    "version": 3
   },
   "file_extension": ".py",
   "mimetype": "text/x-python",
   "name": "python",
   "nbconvert_exporter": "python",
   "pygments_lexer": "ipython3",
   "version": "3.10.6"
  }
 },
 "nbformat": 4,
 "nbformat_minor": 2
}
