{
 "cells": [
  {
   "cell_type": "markdown",
   "metadata": {},
   "source": [
    "### DEMO 4-1: Handwritten Digit Recognition App"
   ]
  },
  {
   "cell_type": "code",
   "execution_count": null,
   "metadata": {},
   "outputs": [],
   "source": [
    "## Train a random forest model\n",
    "from sklearn.model_selection import train_test_split\n",
    "from sklearn.ensemble import RandomForestClassifier\n",
    "from sklearn.metrics import accuracy_score\n",
    "import joblib\n",
    "import numpy as np\n",
    "\n",
    "path='./data/mnist.npz'\n",
    "with np.load(path, allow_pickle=True) as f:\n",
    "    x_train, y_train = f[\"x_train\"], f[\"y_train\"]\n",
    "    x_test, y_test = f[\"x_test\"], f[\"y_test\"]\n",
    "    \n",
    "print(x_train.shape,y_train.shape)\n",
    "clf = RandomForestClassifier(n_estimators=200, random_state=42)\n",
    "clf.fit(x_train, y_train)\n",
    "y_pred = clf.predict(x_test)\n",
    "accuracy = accuracy_score(y_test, y_pred)\n",
    "print(\"Accuracy:\", accuracy)\n",
    "joblib.dump(clf, './data/random_forest_model.pkl')"
   ]
  },
  {
   "cell_type": "code",
   "execution_count": null,
   "metadata": {},
   "outputs": [],
   "source": [
    "## build the app\n",
    "import gradio as gr\n",
    "import joblib\n",
    "import numpy as np\n",
    "\n",
    "# Load a pre-trained Random Forest model\n",
    "model = joblib.load('./data/random_forest_model.pkl')\n",
    "## you can download the model file from the huggingface link:\n",
    "# import requests\n",
    "# url = \"https://huggingface.co/spaces/JunchuanYu/handwritten_recognition/resolve/main/data/random_forest_model.pkl\"\n",
    "# response = requests.get(url)\n",
    "# with open(\"./random_forest_model.pkl\", \"wb\") as file:\n",
    "#     file.write(response.content)\n",
    "# print(\"Download completed\")\n",
    "\n",
    "# Function to predict the digit\n",
    "def predict_minist(image):\n",
    "    normalized = image['composite'][:, :, -1]\n",
    "    flattened = normalized.reshape(1, 784)\n",
    "    prediction = model.predict(flattened)\n",
    "    print(normalized.shape, np.max(normalized), prediction[0])\n",
    "    return prediction[0]\n",
    "\n",
    "with gr.Blocks(theme=\"soft\") as demo:\n",
    "    gr.Markdown(\"\"\"\n",
    "        <center> \n",
    "        <h1>Handwritten Digit Recognition</h1>\n",
    "        <b>jason.yu.mail@qq.com 📧</b>\n",
    "        </center>\n",
    "        \"\"\")  \n",
    "    gr.Markdown(\"Draw a digit and the model will predict the digit. Please draw the digit in the center of the canvas\")\n",
    "    with gr.Row():\n",
    "        outtext = gr.Textbox(label=\"Prediction\")\n",
    "    with gr.Row():\n",
    "        inputimg = gr.ImageMask(image_mode=\"RGBA\", crop_size=(28,28))\n",
    "\n",
    "    inputimg.change(predict_minist, inputimg, outtext)\n",
    "# demo.launch()\n",
    "demo.launch(height=550,width=\"100%\",show_api=False)"
   ]
  },
  {
   "cell_type": "markdown",
   "metadata": {},
   "source": [
    "<img src=\"https://dunazo.oss-cn-beijing.aliyuncs.com/blog/demo4-1.gif\" alt=\"Demo Image\" class=\"center-image\"/>"
   ]
  }
 ],
 "metadata": {
  "kernelspec": {
   "display_name": "gee",
   "language": "python",
   "name": "python3"
  },
  "language_info": {
   "codemirror_mode": {
    "name": "ipython",
    "version": 3
   },
   "file_extension": ".py",
   "mimetype": "text/x-python",
   "name": "python",
   "nbconvert_exporter": "python",
   "pygments_lexer": "ipython3",
   "version": "3.10.6"
  }
 },
 "nbformat": 4,
 "nbformat_minor": 2
}
