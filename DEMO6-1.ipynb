{
 "cells": [
  {
   "cell_type": "markdown",
   "metadata": {},
   "source": [
    "<img src=\"https://dunazo.oss-cn-beijing.aliyuncs.com/blog/gradio_11.png\"/>"
   ]
  },
  {
   "cell_type": "markdown",
   "metadata": {},
   "source": [
    "### DEMO 6-1: Deploying a Gradio App on Hugging Face "
   ]
  },
  {
   "cell_type": "markdown",
   "metadata": {},
   "source": [
    "<img src=\"https://dunazo.oss-cn-beijing.aliyuncs.com/blog/hfapp_page.jpg\"/>"
   ]
  },
  {
   "cell_type": "markdown",
   "metadata": {},
   "source": [
    "#### 1. Hugging Face Introduction\n",
    "\n",
    "Hugging Face is an artificial intelligence company specializing in the field of natural language processing (NLP), established in 2016. The company is renowned for its open-source **Transformers library**, which provides a multitude of pre-trained models for various NLP tasks such as text classification, sentiment analysis, machine translation, and question-answering systems. Hugging Face aims to make advanced NLP technology accessible to everyone, whether researchers, developers, or businesses.\n",
    "\n",
    "Key features and contributions of Hugging Face include:\n",
    "\n",
    "- **Open Source Community**: Hugging Face has an active open-source community where contributors constantly update and improve the models and tools in the library.\n",
    "- **Transformers Library**: This is the core product of Hugging Face, offering a unified interface to use and fine-tune pre-trained Transformer models such as BERT, GPT, T5, etc.\n",
    "- **Model Sharing Platform**: Hugging Face provides a platform for sharing models, where users can upload, share, and discover pre-trained models for specific tasks.\n",
    "- **Hugging Face Spaces**: This is a hosting platform where users can deploy and share their Gradio applications, making them accessible to anyone.\n",
    "- **Gradio**: Hugging Face developed Gradio, an easy-to-use library for quickly creating interactive demos of machine learning models."
   ]
  },
  {
   "cell_type": "markdown",
   "metadata": {},
   "source": [
    "## 2. Sharing Gradio Applications Locally and on the Internet\n",
    "Gradio offers several ways to share your applications, both locally within a network and on the internet. Here's how you can do both:\n",
    "\n",
    "- Local Network Sharing\n",
    "By default, Gradio apps are set to localhost (127.0.0.1) which means they are only accessible on your local machine. To share your app within your local network, you need to set the Server_name to 0.0.0.0 in your Gradio launch command. This will allow others on the same network to access your app through your local IP address.\n",
    "```python\n",
    "  demo.launch(server_name='0.0.0.0')\n",
    "```\n",
    "- Internet Sharing\n",
    "Gradio allows you to share your app on the internet for a limited time (72 hours) by setting share=True in your launch command. This feature is useful for quickly sharing your app with others over the internet.\n",
    "```python\n",
    "  demo.launch(share=True)\n",
    " ``` "
   ]
  },
  {
   "cell_type": "markdown",
   "metadata": {},
   "source": [
    "\n",
    "#### 3. Deploying on Hugging Face Spaces\n",
    "\n",
    "Here are the specific steps to deploy a Gradio application on Hugging Face Spaces:\n",
    "\n",
    "- First, if you do not have a Hugging Face account, please visit https://huggingface.co/ and click on \"Sign Up\" to create one.\n",
    "\n",
    "- After logging in, click on your avatar and then click on \"New Space\" below to access this page: https://huggingface.co/new-space\n",
    "\n",
    "- Name your Space and choose a license. Select \"Gradio\" as the Space SDK and choose \"Public\" if you want everyone to access your Space and underlying code.\n",
    "\n",
    "- You will then see a page that provides instructions on how to upload your files to the Space. You need to add a `requirements.txt` file to specify any Python package dependencies and also upload a main Gradio program, usually named `app.py`.\n",
    "\n",
    "- Once you have pushed your files, the web app will be automatically built, and you can share it with anyone, even embedding your Gradio app on any website.\n",
    "\n",
    "Here is an operational video:\n",
    "\n",
    "<img src=\"https://dunazo.oss-cn-beijing.aliyuncs.com/blog/build)web_app_in_HF.gif\"/>\n",
    "\n"
   ]
  },
  {
   "cell_type": "markdown",
   "metadata": {},
   "source": [
    "#### 4. Files to Upload\n",
    "\n",
    "After creating a new Space, a `Readme.md` file will be automatically generated. In this file, you can define some basic attributes of the Space, such as the Space name, description, permissions, etc. Additionally, you can specify the Gradio and Python versions used.\n",
    "\n",
    "<!-- <details> -->\n",
    "<summary>Readme.md</summary>\n",
    "\n",
    "- title: Handwritten Recognition  \n",
    "- emoji: 📉\n",
    "- colorFrom: green\n",
    "- colorTo: green\n",
    "- sdk: gradio\n",
    "- sdk_version: 4.31.4\n",
    "- python_version: 3.10.0\n",
    "- app_file: app.py\n",
    "- pinned: false\n",
    "- license: mit\n",
    "\n",
    "<!-- </details> -->\n",
    "The `app.py` file contains the main program of the Gradio APP. In this example, a random forest model is built for handwritten digit recognition.\n",
    "\n",
    "\n",
    "\n",
    "```python\n",
    "import gradio as gr\n",
    "import joblib\n",
    "import numpy as np\n",
    "\n",
    "model = joblib.load('./data/random_forest_model.pkl')\n",
    "\n",
    "def predict_minist(image):\n",
    "    normalized = image['composite'][:, :, -1]\n",
    "    flattened = normalized.reshape(1, 784)\n",
    "    prediction = model.predict(flattened)\n",
    "    print(normalized.shape, np.max(normalized), prediction[0])\n",
    "    return prediction[0]\n",
    "\n",
    "with gr.Blocks(theme=\"soft\") as demo:\n",
    "    gr.Markdown(\"\"\"\n",
    "        <center> \n",
    "        <h1>Handwritten Digit Recognition</h1>\n",
    "        <b>jason.yu.mail@qq.com 📧</b>\n",
    "        </center>\n",
    "        \"\"\")  \n",
    "    gr.Markdown(\"Draw a digit and the model will predict the digit. Please draw the digit in the center of the canvas\")\n",
    "    with gr.Row():\n",
    "        outtext = gr.Textbox(label=\"Prediction\")\n",
    "    with gr.Row():\n",
    "        inputimg = gr.ImageMask(image_mode=\"RGBA\", crop_size=(28,28))\n",
    "\n",
    "    inputimg.change(predict_minist, inputimg, outtext)\n",
    "demo.launch()\n",
    "```\n",
    "\n",
    "The newly created Space virtual environment comes with Gradio and Python pre-installed, and this app uses the Scikit-learn and joblib libraries, which are not pre-installed in the environment. Therefore, you need to upload a `requirements.txt` file to record the required libraries for the environment, preferably with specific versions.\n",
    "\n",
    "<!-- <details> -->\n",
    "<summary>requirements.txt</summary>\n",
    "\n",
    "- joblib\n",
    "- Scikit-learn==1.1.2\n",
    "\n",
    "<!-- </details> -->\n",
    "\n",
    "The published APP can be embedded using the following code:\n",
    "\n",
    "``` python\n",
    "from IPython.display import IFrame\n",
    "IFrame(src='https://junchuanyu-handwritten-recognition.hf.space', width=1000, height=800)\n",
    "\n",
    "```"
   ]
  },
  {
   "cell_type": "code",
   "execution_count": 5,
   "metadata": {},
   "outputs": [
    {
     "data": {
      "text/html": [
       "\n",
       "        <iframe\n",
       "            width=\"1000\"\n",
       "            height=\"500\"\n",
       "            src=\"https://junchuanyu-handwritten-recognition.hf.space\"\n",
       "            frameborder=\"0\"\n",
       "            allowfullscreen\n",
       "            \n",
       "        ></iframe>\n",
       "        "
      ],
      "text/plain": [
       "<IPython.lib.display.IFrame at 0x1d4bd9466e0>"
      ]
     },
     "execution_count": 5,
     "metadata": {},
     "output_type": "execute_result"
    }
   ],
   "source": [
    "from IPython.display import IFrame\n",
    "IFrame(src='https://junchuanyu-handwritten-recognition.hf.space', width=1000,height=500)"
   ]
  },
  {
   "cell_type": "markdown",
   "metadata": {},
   "source": []
  }
 ],
 "metadata": {
  "kernelspec": {
   "display_name": "gee",
   "language": "python",
   "name": "python3"
  },
  "language_info": {
   "codemirror_mode": {
    "name": "ipython",
    "version": 3
   },
   "file_extension": ".py",
   "mimetype": "text/x-python",
   "name": "python",
   "nbconvert_exporter": "python",
   "pygments_lexer": "ipython3",
   "version": "3.10.6"
  }
 },
 "nbformat": 4,
 "nbformat_minor": 2
}
