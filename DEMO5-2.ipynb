{
 "cells": [
  {
   "cell_type": "markdown",
   "metadata": {},
   "source": [
    "<img src=\"https://dunazo.oss-cn-beijing.aliyuncs.com/blog/gradio_9.png\"/>"
   ]
  },
  {
   "cell_type": "markdown",
   "metadata": {},
   "source": [
    "### DEMO 5-2: Geospatial COG and TIFF Viewer App"
   ]
  },
  {
   "cell_type": "code",
   "execution_count": null,
   "metadata": {},
   "outputs": [],
   "source": [
    "import gradio as gr\n",
    "import leafmap.foliumap as leafmap\n",
    "\n",
    "# Define a function to load COG and Tiff in leafmap\n",
    "def split(text1,text2):\n",
    "    url=str(text1)\n",
    "    filepath=str(text2)\n",
    "    Map = leafmap.Map()\n",
    "    Map.add_tile_layer(url='https://server.arcgisonline.com/ArcGIS/rest/services/World_Imagery/MapServer/tile/{z}/{y}/{x}', name='arcgisonline',attribution='attribution')\n",
    "    if url !='':\n",
    "        Map.add_cog_layer(url)\n",
    "    if filepath!='':\n",
    "        raster = \"raster.tif\"\n",
    "        raster = leafmap.download_file(filepath, \"raster.tif\")\n",
    "        Map.add_raster(raster,layer_name='insar')       \n",
    "    return Map.to_gradio()\n",
    "\n",
    "with gr.Blocks(theme='gradio/soft') as demo:\n",
    "    gr.HTML(\"\"\"\n",
    "            <center> \n",
    "            <h1> Work with foliumap 🗺️ </h1>\n",
    "            <b> jason.yu.mail@qq.com  📧<b>\n",
    "            </center>\n",
    "            \"\"\")  \n",
    "    with gr.Row():\n",
    "        input=gr.Textbox(label='Enter a COG Tile URL',interactive=True)\n",
    "        input2=gr.Textbox(label='Enter a Tiff URL',interactive=True)\n",
    "    with gr.Row():\n",
    "        out=gr.HTML()\n",
    "\n",
    "    input.change(split, inputs=[input,input2], outputs=out)\n",
    "    input2.change(split, inputs=[input,input2], outputs=out)\n",
    "\n",
    "demo.launch(debug=True)\n",
    "\n",
    "# url='https://open.gishub.org/data/raster/cog.tif'\n",
    "# path='https://github.com/JunchuanYu/Gradio_tutorial/blob/main/data/raster.tif'"
   ]
  },
  {
   "cell_type": "markdown",
   "metadata": {},
   "source": [
    "<img src=\"https://dunazo.oss-cn-beijing.aliyuncs.com/blog/demo5-2.gif\" alt=\"Demo Image\" class=\"center-image\"/>"
   ]
  }
 ],
 "metadata": {
  "kernelspec": {
   "display_name": "gee",
   "language": "python",
   "name": "python3"
  },
  "language_info": {
   "codemirror_mode": {
    "name": "ipython",
    "version": 3
   },
   "file_extension": ".py",
   "mimetype": "text/x-python",
   "name": "python",
   "nbconvert_exporter": "python",
   "pygments_lexer": "ipython3",
   "version": "3.10.6"
  }
 },
 "nbformat": 4,
 "nbformat_minor": 2
}
