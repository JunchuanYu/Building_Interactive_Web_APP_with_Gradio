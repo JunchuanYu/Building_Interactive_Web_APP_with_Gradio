{
 "cells": [
  {
   "cell_type": "markdown",
   "metadata": {},
   "source": [
    "<img src=\"https://dunazo.oss-cn-beijing.aliyuncs.com/blog/gradio_9.png\"/>"
   ]
  },
  {
   "cell_type": "markdown",
   "metadata": {},
   "source": [
    "### DEMO 5-1: Interactive Map Generation Using Gradio and Leafmap"
   ]
  },
  {
   "cell_type": "code",
   "execution_count": null,
   "metadata": {},
   "outputs": [],
   "source": [
    "import gradio as gr\n",
    "import leafmap.foliumap as leafmap\n",
    "\n",
    "# Define a function to generate a map based on provided parameters\n",
    "def generate_map(zoom_level, maptype=\"Esri.WorldStreetMap\",coordsy='', coordsx=''):\n",
    "    if coordsy == '' and coordsx == '':\n",
    "        coordsy = 40\n",
    "        coordsx = 116.3\n",
    "    print(maptype)\n",
    "\n",
    "    # Create a map object centered at the given coordinates with the specified zoom level\n",
    "    map = leafmap.Map(location=(coordsy, coordsx), zoom=zoom_level)\n",
    "    map.add_basemap(maptype)\n",
    "    return map.to_gradio()    # Return the map in html format\n",
    "\n",
    "  \n",
    "with gr.Blocks() as demo:\n",
    "    gr.HTML(\"\"\"\n",
    "            <center> \n",
    "            <h1> General a map 🗺️ </h1>\n",
    "            <b> jason.yu.mail@qq.com  📧<b>\n",
    "            </center>\n",
    "            \"\"\")      \n",
    "    with gr.Row():\n",
    "      with gr.Row():\n",
    "        coordinates_input_y = gr.Textbox(value='',placeholder=40,label=\"Center coordinate latitude\",lines=1)\n",
    "        coordinates_input_x = gr.Textbox(value='',placeholder=116.3,label=\"Center coordinate longtitude\",lines=1)\n",
    "        zoom_level_input = gr.Slider(value=9,minimum=4,maximum=15,step=1,label=\"choose zoom level\",interactive=True)\n",
    "\n",
    "    with gr.Row():\n",
    "      maptype=gr.Dropdown(\n",
    "              choices=[\n",
    "                  \"Esri.NatGeoWorldMap\",\n",
    "                  \"Esri.WorldGrayCanvas\",\n",
    "                  \"Esri.WorldImagery\",\n",
    "                  \"Esri.WorldShadedRelief\",\n",
    "                  \"Esri.WorldStreetMap\",\n",
    "                  \"Esri.WorldTerrain\",\n",
    "                  \"Esri.WorldTopoMap\",\n",
    "              ],value=\"Esri.WorldStreetMap\",interactive=True,label=\"Basemap\")\n",
    "      map_button = gr.Button(\"Generate\",scale=1)\n",
    "    with gr.Row():\n",
    "      map_output = gr.HTML() # Define the output as an HTML object\n",
    "\n",
    "    map_button.click(generate_map, inputs=[zoom_level_input,maptype,coordinates_input_y,coordinates_input_x], outputs=[map_output])\n",
    "\n",
    "demo.queue().launch() # Start multi-thread processing mode"
   ]
  },
  {
   "cell_type": "markdown",
   "metadata": {},
   "source": [
    "<img src=\"https://dunazo.oss-cn-beijing.aliyuncs.com/blog/demo5-1.gif\" alt=\"Demo Image\" class=\"center-image\"/>"
   ]
  }
 ],
 "metadata": {
  "kernelspec": {
   "display_name": "gee",
   "language": "python",
   "name": "python3"
  },
  "language_info": {
   "codemirror_mode": {
    "name": "ipython",
    "version": 3
   },
   "file_extension": ".py",
   "mimetype": "text/x-python",
   "name": "python",
   "nbconvert_exporter": "python",
   "pygments_lexer": "ipython3",
   "version": "3.10.6"
  }
 },
 "nbformat": 4,
 "nbformat_minor": 2
}
