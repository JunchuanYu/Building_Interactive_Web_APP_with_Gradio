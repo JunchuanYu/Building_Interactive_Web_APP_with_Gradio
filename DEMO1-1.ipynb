{
 "cells": [
  {
   "cell_type": "markdown",
   "metadata": {},
   "source": [
    "### DEMO 1-1: Build Your First Gradio App"
   ]
  },
  {
   "cell_type": "code",
   "execution_count": null,
   "metadata": {},
   "outputs": [],
   "source": [
    "import gradio as gr\n",
    "\n",
    "def greet(name, intensity): # Define a simple function that returns a greeting message\n",
    "    return \"Hello, \" + name + \"!\" * int(intensity)\n",
    "\n",
    "# Define the Gradio interface with the following specifications:\n",
    "demo = gr.Interface(\n",
    "    fn=greet,\n",
    "    inputs=[\"text\", \"slider\"], # Define the inputs as text and a slider\n",
    "    outputs=[\"text\"], # Define the output as text\n",
    ") \n",
    "\n",
    "demo.launch() # Launch the Gradio interface in the default web browser"
   ]
  },
  {
   "cell_type": "markdown",
   "metadata": {},
   "source": [
    "<img src=\"https://dunazo.oss-cn-beijing.aliyuncs.com/blog/demo1-1.gif\" alt=\"Demo Image\" class=\"center-image\"/>"
   ]
  },
  {
   "cell_type": "markdown",
   "metadata": {},
   "source": []
  }
 ],
 "metadata": {
  "kernelspec": {
   "display_name": "gee",
   "language": "python",
   "name": "python3"
  },
  "language_info": {
   "codemirror_mode": {
    "name": "ipython",
    "version": 3
   },
   "file_extension": ".py",
   "mimetype": "text/x-python",
   "name": "python",
   "nbconvert_exporter": "python",
   "pygments_lexer": "ipython3",
   "version": "3.10.6"
  }
 },
 "nbformat": 4,
 "nbformat_minor": 2
}
