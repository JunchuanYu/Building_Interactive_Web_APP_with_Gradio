{
 "cells": [
  {
   "cell_type": "markdown",
   "metadata": {},
   "source": [
    "![](https://dunazo.oss-cn-beijing.aliyuncs.com/blog/gradio_5.png)"
   ]
  },
  {
   "cell_type": "markdown",
   "metadata": {},
   "source": [
    "### DEMO 3-1: Remote Sensing Imagery Visulization"
   ]
  },
  {
   "cell_type": "code",
   "execution_count": null,
   "metadata": {},
   "outputs": [],
   "source": [
    "from osgeo import gdal,osr\n",
    "import gradio as gr\n",
    "import numpy as np\n",
    "import matplotlib.pyplot as plt\n",
    "import logging\n",
    "\n",
    "# using logging to record the status of the app\n",
    "logging.basicConfig(filename='app.log', level=logging.INFO,format='%(asctime)s:%(levelname)s:%(message)s')\n",
    "\n",
    "# Define the upload interface, which returns a temporary path after data upload and processes the image into an array\n",
    "def stretch_n(band, lower_percent=5, higher_percent=95): \n",
    "    band=np.array(band,dtype=np.float32)\n",
    "    c = np.percentile(band, lower_percent)*1.0\n",
    "    d = np.percentile(band, higher_percent)*1.0       \n",
    "    band[band<c] = c\n",
    "    band[band>d] = d\n",
    "    out =  (band - c)  / (d - c)  \n",
    "    # print(np.max(out),np.min(out),c,d)  \n",
    "    return out.astype(np.float32)\n",
    "\n",
    "# Loop through each band for stretching\n",
    "def adjust_contrast(data,n_band=3):    \n",
    "    data=np.array(data,dtype=np.float32)\n",
    "    for img in data:\n",
    "        for k in range(n_band):\n",
    "            img[:,:,k] = stretch_n(img[:,:,k])\n",
    "    return data\n",
    "\n",
    "def Load_image_by_Gdal(file_path):\n",
    "    img_file = gdal.Open(file_path, gdal.GA_ReadOnly)\n",
    "    img_bands = img_file.RasterCount # Number of bands\n",
    "    img_height = img_file.RasterYSize # Height\n",
    "    img_width = img_file.RasterXSize # Width\n",
    "    img_arr = img_file.ReadAsArray() # Get projection information\n",
    "    geomatrix = img_file.GetGeoTransform() # Get transformation matrix information\n",
    "    projection = img_file.GetProjectionRef()\n",
    "    return img_bands,img_arr, geomatrix, projection\n",
    "\n",
    "# Define the tiff reading function\n",
    "def read_tiff(file):\n",
    "    img_bands,img_arr, geomatrix, projection =Load_image_by_Gdal(file)\n",
    "    if img_bands >1 :\n",
    "        img_arr=img_arr.transpose(( 1, 2,0))\n",
    "    return img_arr, geomatrix, projection\n",
    "\n",
    "# Define the reset function\n",
    "def reset_state():\n",
    "    return None,None,None,[]\n",
    "\n",
    "# Define the visulization function\n",
    "def upload_file(files):\n",
    "    logging.info(f\"File uploaded: {files.name}\")\n",
    "    \n",
    "    file_patchs=files.name\n",
    "    img_arr, geomatrix, projection=read_tiff(file_patchs)\n",
    "    rgb=img_arr.copy()[:,:,:3]\n",
    "    mask=img_arr.copy()[:,:,-1]\n",
    "    img=adjust_contrast(np.expand_dims(rgb,axis=0))\n",
    "    # print(img.shape)\n",
    "    palette = np.array([ [83,49,125],   [56,173,20],   [210,10,115], [19,188,106], [16,96,160]]) \n",
    "    predc=palette[mask]\n",
    "    \n",
    "    dict_info={\"image shape\":img_arr.shape,\"max value\":np.max(img_arr)}\n",
    "    if isinstance(projection, str):\n",
    "        spatial_ref = osr.SpatialReference()\n",
    "        spatial_ref.ImportFromWkt(projection)\n",
    "        utm_zone = spatial_ref.GetUTMZone()\n",
    "        if utm_zone:\n",
    "            dict_info[\"UTM zone\"] = utm_zone\n",
    "            dict_info[\"Projection\"] = f\"WGS 84 / UTM Zone {utm_zone}\"\n",
    "\n",
    "    # Convert the dictionary into a string with each key-value pair on a new line\n",
    "    info_lines = \"\\n\".join([f\"{key}: {value}\" for key, value in dict_info.items()])\n",
    "    \n",
    "    logging.info(f\"File info: {dict_info}\")\n",
    "    return img[0],predc,info_lines # return rgb image, mask image, and image info\n",
    "\n",
    "#  Build the main interface with gr.Blocks\n",
    "with gr.Blocks(theme=\"gradio/sketch\") as demo: # sketch-like theme\n",
    "\n",
    "    gr.Markdown('''# <center>Remote Sensing Imagery Visulization</center>''')  # Title, markdown syntax\n",
    "    upload_button = gr.UploadButton(\"Click to Upload a Tiff\", file_types=[\"image\"], file_count=\"single\") #定义上传接口\n",
    "    # Define intermediate parameters\n",
    "    with gr.Row():\n",
    "        showimg=gr.Image(label=\"RGB\") # output 1 recive the RGB array\n",
    "        img_output = gr.Image(label=\"label\") # output 2 recive the mask array\n",
    "    outtext=gr.Textbox(label=\"img_info\") # output 3 recive the image info\n",
    "    emptyBtn = gr.Button(\"Restart\",variant=\"secondary\") \n",
    "\n",
    "    # Define buttons\n",
    "    upload_button.upload(upload_file, upload_button, [showimg,img_output,outtext]) \n",
    "\n",
    "    # Define button actions\n",
    "    emptyBtn.click(reset_state,outputs=[upload_button,showimg,img_output,outtext],show_progress=True)  \n",
    "        \n",
    "demo.launch()"
   ]
  },
  {
   "cell_type": "markdown",
   "metadata": {},
   "source": [
    "![](https://dunazo.oss-cn-beijing.aliyuncs.com/blog/demo3-1.gif)\n"
   ]
  },
  {
   "cell_type": "markdown",
   "metadata": {},
   "source": []
  }
 ],
 "metadata": {
  "kernelspec": {
   "display_name": "gee",
   "language": "python",
   "name": "python3"
  },
  "language_info": {
   "codemirror_mode": {
    "name": "ipython",
    "version": 3
   },
   "file_extension": ".py",
   "mimetype": "text/x-python",
   "name": "python",
   "nbconvert_exporter": "python",
   "pygments_lexer": "ipython3",
   "version": "3.10.6"
  }
 },
 "nbformat": 4,
 "nbformat_minor": 2
}
