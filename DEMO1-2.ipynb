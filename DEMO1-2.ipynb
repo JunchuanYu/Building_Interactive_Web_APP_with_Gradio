{
 "cells": [
  {
   "cell_type": "markdown",
   "metadata": {},
   "source": [
    "<img src=\"https://dunazo.oss-cn-beijing.aliyuncs.com/blog/gradio_1.png\"/>"
   ]
  },
  {
   "cell_type": "markdown",
   "metadata": {},
   "source": [
    "### DEMO 1-2: Display an Image"
   ]
  },
  {
   "cell_type": "code",
   "execution_count": null,
   "metadata": {},
   "outputs": [],
   "source": [
    "import gradio as gr\n",
    "from PIL import Image\n",
    "\n",
    "def to_black(file):\n",
    "    image=Image.fromarray(file) #  Convert a numpy array to a PIL Image\n",
    "    # image=Image.open(file) # If the input is a file path, open it as a PIL Image\n",
    "    # image=file # If the input is already a PIL Image, use it directly\n",
    "    img=image.convert(\"L\") #  Convert to a grayscale image\n",
    "    img=img.rotate(180) #  Rotate the image by 180 degrees\n",
    "    return img\n",
    "\n",
    "demo = gr.Interface(fn=to_black, \n",
    "            inputs=gr.Image(type='numpy'),  #type='pil','numpy','filepath'\n",
    "            outputs=gr.Image(type='pil'),)\n",
    "\n",
    "demo.launch(share=False)"
   ]
  },
  {
   "cell_type": "markdown",
   "metadata": {},
   "source": [
    "<img src=\"https://dunazo.oss-cn-beijing.aliyuncs.com/blog/demo1-2.gif\" alt=\"Demo Image\" class=\"center-image\"/>"
   ]
  },
  {
   "cell_type": "code",
   "execution_count": null,
   "metadata": {},
   "outputs": [],
   "source": []
  }
 ],
 "metadata": {
  "kernelspec": {
   "display_name": "gee",
   "language": "python",
   "name": "python3"
  },
  "language_info": {
   "codemirror_mode": {
    "name": "ipython",
    "version": 3
   },
   "file_extension": ".py",
   "mimetype": "text/x-python",
   "name": "python",
   "nbconvert_exporter": "python",
   "pygments_lexer": "ipython3",
   "version": "3.10.6"
  }
 },
 "nbformat": 4,
 "nbformat_minor": 2
}
