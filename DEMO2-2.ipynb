{
 "cells": [
  {
   "cell_type": "markdown",
   "metadata": {},
   "source": [
    "![](https://dunazo.oss-cn-beijing.aliyuncs.com/blog/gradio_3.png)"
   ]
  },
  {
   "cell_type": "markdown",
   "metadata": {},
   "source": [
    "### DEMO 2-2: Diverse Data Display and File Interaction App"
   ]
  },
  {
   "cell_type": "code",
   "execution_count": null,
   "metadata": {},
   "outputs": [],
   "source": [
    "import gradio as gr\n",
    "import pandas as pd\n",
    "from PIL import Image\n",
    "from pathlib import Path\n",
    "\n",
    "# Function to square the input number\n",
    "def change_number(x):\n",
    "    return x**2 \n",
    "\n",
    "# Function to download the image\n",
    "def download_image(x):\n",
    "    img=x['composite'][:, :, :3] \n",
    "    print(img.shape)\n",
    "    rgb_image=Image.fromarray(img)\n",
    "    tempdir='./mydraw.jpg'\n",
    "    rgb_image.save(tempdir)\n",
    "    print(tempdir, Path(tempdir).stem)\n",
    "    return gr.DownloadButton(label=f\"Download {Path(tempdir).stem}\", value=tempdir, visible=True)\n",
    "\n",
    "# Function to get the file path and plot the data from a CSV file\n",
    "def getfilepath(x):\n",
    "    path=x[0]\n",
    "    df_read=pd.read_csv(path)\n",
    "    plot=gr.LinePlot(\n",
    "        df_read,\n",
    "        x=\"band\",\n",
    "        y=\"Reflectance\",\n",
    "        color=\"Symbol\",\n",
    "        color_legend_position=\"bottom\",\n",
    "        title=\"Spectra of Different Materials\",\n",
    "        tooltip=[\"band\", \"Reflectance\", \"Symbol\"],\n",
    "        height=250,\n",
    "        width=500,\n",
    "        container=False,)\n",
    "    return plot\n",
    "\n",
    "# Function to plot the data from a CSV file uploaded by the user\n",
    "def getpath(x):\n",
    "    path=x.name\n",
    "    df_read=pd.read_csv(path)\n",
    "\n",
    "    plot=gr.LinePlot(\n",
    "        df_read,\n",
    "        x=\"band\",\n",
    "        y=\"Reflectance\",\n",
    "        color=\"Symbol\",\n",
    "        color_legend_position=\"bottom\",\n",
    "        title=\"Spectra of Different Materials\",\n",
    "        tooltip=[\"band\", \"Reflectance\", \"Symbol\"],\n",
    "        height=250,\n",
    "        width=500,\n",
    "        container=False,)\n",
    "    return plot\n",
    "\n",
    "# Create a Gradio interface with the \"soft\" theme\n",
    "with gr.Blocks(theme=\"soft\") as demo:\n",
    "    gr.Markdown(\"# Web app interface design\")\n",
    "    csvfile=gr.update(value='')\n",
    "    \n",
    "    with gr.Tab(\"Get numbers\"):  ## The first sub app\n",
    "        with gr.Accordion(\"Readme\", open=False):\n",
    "            gr.Markdown(\" Square of the input number\")\n",
    "        with gr.Row():\n",
    "            with gr.Column():\n",
    "                temp_slider = gr.Slider(minimum=0.0,maximum=10,step=1,interactive=True,label=\"Slide me\",)\n",
    "            with gr.Column():\n",
    "                out_slider=gr.Textbox()\n",
    "            \n",
    "    with gr.Tab(\"Draw a picture\"): ## The second sub app\n",
    "        image_input = gr.ImageEditor(type=\"numpy\",show_download_button=False,label=\"Draw a Picture\") #dict:'background','layers', 'composite'\n",
    "        image_button=gr.DownloadButton(\"Download\",visible=True,variant='primary')\n",
    "        \n",
    "    with gr.Tab(\"Plot a figure\"): ## The third sub app\n",
    "        with gr.Row():\n",
    "            with gr.Column():\n",
    "                file_explore=gr.FileExplorer(root_dir=\"./data\")\n",
    "            with gr.Column():\n",
    "                file=gr.File(file_count=\"single\",scale=1,label=\"Upload the csv file\")\n",
    "\n",
    "        with gr.Row():\n",
    "            plot=gr.LinePlot()\n",
    "    \n",
    "    temp_slider.change(change_number,inputs=temp_slider,outputs=out_slider)     # Link the slider's change event to the change_number function\n",
    "    image_input.change(download_image, inputs=[image_input], outputs=image_button)     # Link the ImageEditor's change event to the download_image function\n",
    "    file_explore.change(getfilepath, inputs=file_explore, outputs=plot)     # Link the FileExplorer's change event to the getfilepath function\n",
    "    file.change(getpath, inputs=file, outputs=plot)     # Link the File's change event to the getpath function\n",
    "\n",
    "\n",
    "if __name__ == \"__main__\":\n",
    "    demo.launch()\n"
   ]
  },
  {
   "cell_type": "markdown",
   "metadata": {},
   "source": [
    "![](https://dunazo.oss-cn-beijing.aliyuncs.com/blog/demo2-2.gif)\n"
   ]
  },
  {
   "cell_type": "markdown",
   "metadata": {},
   "source": []
  }
 ],
 "metadata": {
  "kernelspec": {
   "display_name": "gee",
   "language": "python",
   "name": "python3"
  },
  "language_info": {
   "codemirror_mode": {
    "name": "ipython",
    "version": 3
   },
   "file_extension": ".py",
   "mimetype": "text/x-python",
   "name": "python",
   "nbconvert_exporter": "python",
   "pygments_lexer": "ipython3",
   "version": "3.10.6"
  }
 },
 "nbformat": 4,
 "nbformat_minor": 2
}
